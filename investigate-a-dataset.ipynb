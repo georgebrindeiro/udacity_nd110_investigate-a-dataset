{
 "cells": [
  {
   "cell_type": "markdown",
   "metadata": {},
   "source": [
    "# Projeto: Investigue um conjunto de dados\n",
    "\n",
    "Neste projeto, investigaremos o [conjunto de dados do Titanic](https://www.kaggle.com/c/titanic), que traz informações diversas sobre todos os passageiros a bordo do navio no dia do seu naufrágio. A ideia é que façamos uma análise exploratória e busquemos obter insights sobre o que aconteceu nesse acidente trágico e histórico."
   ]
  },
  {
   "cell_type": "markdown",
   "metadata": {},
   "source": [
    "## Descrição do conjunto de dados\n",
    "\n",
    "A tabela abaixo foi obtida diretamente da seção _Data / Data Dictionary_ da página [Titanic: Machine Learning from Disaster](https://www.kaggle.com/c/titanic/data) do Kaggle e traduzida livremente. Cada linha do conjunto de dados corresponde a um passageiro e suas informações.\n",
    "\n",
    "|\tVariável\t\t|\tDefinição\t\t\t\t\t\t\t\t\t|\tObservações\t\t\t\t\t\t\t\n",
    "|:------------------|:----------------------------------------------|:------------------------------\n",
    "|\t*PassengerId*\t|\tIdentificador único do passageiro\t\t\t||\n",
    "|\t*Survived*\t\t|\tIndicador de sobrevivência do passageiro\t|\t**0** = Não, **1** = Sim\t\t\t\t\n",
    "|\t*Pclass*\t\t|\tClasse da passagem\t\t\t\t\t\t\t|\t**1** = 1ª classe, **2** = 2ª classe, **3** = 3ª classe\t\n",
    "|\t*Name*\t\t\t|\tNome completo do passageiro\t\t\t\t\t|\t**Formato:** Sobrenome, Nome\n",
    "|\t*Sex*\t\t\t|\tGênero do passageiro\t\t\t\t\t\t|\t**male** = Masculino, **female** = Feminino\t\n",
    "|\t*Age*\t\t\t|\tIdade do passageiro\t\t\t\t\t\t\t|\tFracionária se < 1 ano, estimada no formato xx.5\n",
    "|\t*Sibsp*\t\t\t|\t# de irmãos / cônjuges abordo do Titanic\t||\t\n",
    "|\t*Parch*\t\t\t|\t# de pais / filhos abordo do Titanic\t\t|\tCrianças acompanhadas de babá têm Parch = 0\n",
    "|\t*Ticket*\t\t|\tIdentificador da passagem\t\t\t\t\t||\t\n",
    "|\t*Fare*\t\t\t|\tPassenger fare in USD\t\t\t\t\t\t||\t\n",
    "|\t*Cabin*\t\t\t|\tCabin number (if applicable)\t\t\t\t||\t\n",
    "|\t*Embarked*\t\t|\tPort of Embarkation\t\t\t\t\t\t\t|\t**C** = Cherbourg, **Q** = Queenstown, **S** = Southampton"
   ]
  },
  {
   "cell_type": "markdown",
   "metadata": {},
   "source": [
    "## Perguntas sobre o conjunto de dados\n",
    "\n",
    "1. Mulheres e crianças tiveram uma taxa maior de sobrevivência?\n",
    "2. A classe da passagem do passageiro teve influência na sua sobrevivência?\n",
    "3. Qual foi a distribuição de idades dos sobreviventes e não-sobreviventes?\n",
    "4. Qual era o tamanho médio das famílias a bordo?\n",
    "5. Qual porto foi responsável pelo maior número de passageiros?\n",
    "6. Qual porto foi responsável pela maior receita?\n"
   ]
  },
  {
   "cell_type": "markdown",
   "metadata": {},
   "source": [
    "### Preparação e limpeza dos dados"
   ]
  },
  {
   "cell_type": "markdown",
   "metadata": {},
   "source": [
    "Nesta seção, carregaremos os dados e investigaremos possíveis problemas e inconsistências. Em seguida, eliminaremos essas inconsistências e ampliaremos os dados com colunas adicionais para que seja possível fazer todas as análises necessárias."
   ]
  },
  {
   "cell_type": "code",
   "execution_count": 1,
   "metadata": {},
   "outputs": [
    {
     "data": {
      "text/html": [
       "<style>\n",
       "    @font-face {\n",
       "        font-family: \"Computer Modern\";\n",
       "        src: url('http://9dbb143991406a7c655e-aa5fcb0a5a4ec34cff238a2d56ca4144.r56.cf5.rackcdn.com/cmunss.otf');\n",
       "    }\n",
       "    @font-face {\n",
       "        font-family: \"Computer Modern\";\n",
       "        font-weight: bold;\n",
       "        src: url('http://9dbb143991406a7c655e-aa5fcb0a5a4ec34cff238a2d56ca4144.r56.cf5.rackcdn.com/cmunsx.otf');\n",
       "    }\n",
       "    @font-face {\n",
       "        font-family: \"Computer Modern\";\n",
       "        font-style: oblique;\n",
       "        src: url('http://9dbb143991406a7c655e-aa5fcb0a5a4ec34cff238a2d56ca4144.r56.cf5.rackcdn.com/cmunsi.otf');\n",
       "    }\n",
       "    @font-face {\n",
       "        font-family: \"Computer Modern\";\n",
       "        font-weight: bold;\n",
       "        font-style: oblique;\n",
       "        src: url('http://9dbb143991406a7c655e-aa5fcb0a5a4ec34cff238a2d56ca4144.r56.cf5.rackcdn.com/cmunso.otf');\n",
       "    }\n",
       "    div.cell{\n",
       "        width:800px;\n",
       "        margin-left:16% !important;\n",
       "        margin-right:auto;\n",
       "    }\n",
       "    h1 {\n",
       "        font-family: Helvetica, serif;\n",
       "    }\n",
       "    h4{\n",
       "        margin-top:12px;\n",
       "        margin-bottom: 3px;\n",
       "       }\n",
       "    div.text_cell_render{\n",
       "        font-family: Computer Modern, \"Helvetica Neue\", Arial, Helvetica, Geneva, sans-serif;\n",
       "        line-height: 145%;\n",
       "        font-size: 100%;\n",
       "        width:800px;\n",
       "        margin-left:auto;\n",
       "        margin-right:auto;\n",
       "    }\n",
       "    .CodeMirror{\n",
       "            font-family: \"Source Code Pro\", source-code-pro,Consolas, monospace;\n",
       "    }\n",
       "    .prompt{\n",
       "        display: None;\n",
       "    }\n",
       "    .text_cell_render h5 {\n",
       "        font-weight: 300;\n",
       "        font-size: 22pt;\n",
       "        color: #4057A1;\n",
       "        font-style: italic;\n",
       "        margin-bottom: .5em;\n",
       "        margin-top: 0.5em;\n",
       "        display: block;\n",
       "    }\n",
       "    .output_png {\n",
       "        display: table-cell;\n",
       "        text-align: center;\n",
       "        vertical-align: middle;\n",
       "    }\n",
       "    \n",
       "    .warning{\n",
       "        color: rgb( 240, 20, 20 )\n",
       "        }  \n",
       "</style>\n",
       "<script>\n",
       "    MathJax.Hub.Config({\n",
       "                        TeX: {\n",
       "                           extensions: [\"AMSmath.js\"]\n",
       "                           },\n",
       "                tex2jax: {\n",
       "                    inlineMath: [ ['$','$'], [\"\\\\(\",\"\\\\)\"] ],\n",
       "                    displayMath: [ ['$$','$$'], [\"\\\\[\",\"\\\\]\"] ]\n",
       "                },\n",
       "                displayAlign: 'center', // Change this to 'center' to center equations.\n",
       "                \"HTML-CSS\": {\n",
       "                    styles: {'.MathJax_Display': {\"margin\": 4}}\n",
       "                }\n",
       "        });\n",
       "</script>\n"
      ],
      "text/plain": [
       "<IPython.core.display.HTML object>"
      ]
     },
     "execution_count": 1,
     "metadata": {},
     "output_type": "execute_result"
    }
   ],
   "source": [
    "# Código para permitir múltiplas saídas em uma mesma célula do Jupyter Notebook\n",
    "\n",
    "from IPython.core.interactiveshell import InteractiveShell\n",
    "InteractiveShell.ast_node_interactivity = \"all\"\n",
    "\n",
    "# Código para permitir customizar o estilo do Jupyter Notebook com CSS\n",
    "from IPython.core.display import HTML\n",
    "def css_styling():\n",
    "    styles = open(\"custom.css\", \"r\").read() #or edit path to custom.css\n",
    "    return HTML(styles)\n",
    "css_styling()"
   ]
  },
  {
   "cell_type": "code",
   "execution_count": 2,
   "metadata": {},
   "outputs": [],
   "source": [
    "# Configurações de exibição do matplotlib\n",
    "% matplotlib inline\n",
    "\n",
    "import matplotlib.pyplot as plt\n",
    "import numpy as np\n",
    "\n",
    "from cycler import cycler\n",
    "\n",
    "plt.rcParams.update(\n",
    "    {\n",
    "        \"lines.linewidth\": 2.0,\n",
    "        \"axes.edgecolor\": \"#bcbcbc\",\n",
    "        \"patch.linewidth\": 0.5,\n",
    "        \"legend.fancybox\": True,\n",
    "        \"axes.prop_cycle\": cycler('color', plt.cm.tab10(np.linspace(0,25,200))),\n",
    "        \"axes.facecolor\": \"#eeeeee\",\n",
    "        \"axes.labelsize\": \"large\",\n",
    "        \"axes.grid\": True,\n",
    "        \"patch.edgecolor\": \"#eeeeee\",\n",
    "        \"axes.titlesize\": \"x-large\",\n",
    "        \"svg.fonttype\": \"path\",\n",
    "        \"examples.directory\": \"\"\n",
    "    }\n",
    ");\n",
    "\n",
    "m_color = (0.12156862745098039, 0.4666666666666667, 0.7058823529411765, 1.0)\n",
    "w_color = (1.0, 0.4980392156862745, 0.054901960784313725, 1.0)\n",
    "c_color = (0.17254901960784313, 0.6274509803921569, 0.17254901960784313, 1.0)"
   ]
  },
  {
   "cell_type": "code",
   "execution_count": 3,
   "metadata": {},
   "outputs": [
    {
     "data": {
      "text/html": [
       "<div>\n",
       "<style scoped>\n",
       "    .dataframe tbody tr th:only-of-type {\n",
       "        vertical-align: middle;\n",
       "    }\n",
       "\n",
       "    .dataframe tbody tr th {\n",
       "        vertical-align: top;\n",
       "    }\n",
       "\n",
       "    .dataframe thead th {\n",
       "        text-align: right;\n",
       "    }\n",
       "</style>\n",
       "<table border=\"1\" class=\"dataframe\">\n",
       "  <thead>\n",
       "    <tr style=\"text-align: right;\">\n",
       "      <th></th>\n",
       "      <th>PassengerId</th>\n",
       "      <th>Survived</th>\n",
       "      <th>Pclass</th>\n",
       "      <th>Name</th>\n",
       "      <th>Sex</th>\n",
       "      <th>Age</th>\n",
       "      <th>SibSp</th>\n",
       "      <th>Parch</th>\n",
       "      <th>Ticket</th>\n",
       "      <th>Fare</th>\n",
       "      <th>Cabin</th>\n",
       "      <th>Embarked</th>\n",
       "    </tr>\n",
       "  </thead>\n",
       "  <tbody>\n",
       "    <tr>\n",
       "      <th>0</th>\n",
       "      <td>1</td>\n",
       "      <td>0</td>\n",
       "      <td>3</td>\n",
       "      <td>Braund, Mr. Owen Harris</td>\n",
       "      <td>male</td>\n",
       "      <td>22.0</td>\n",
       "      <td>1</td>\n",
       "      <td>0</td>\n",
       "      <td>A/5 21171</td>\n",
       "      <td>7.2500</td>\n",
       "      <td>NaN</td>\n",
       "      <td>S</td>\n",
       "    </tr>\n",
       "    <tr>\n",
       "      <th>1</th>\n",
       "      <td>2</td>\n",
       "      <td>1</td>\n",
       "      <td>1</td>\n",
       "      <td>Cumings, Mrs. John Bradley (Florence Briggs Th...</td>\n",
       "      <td>female</td>\n",
       "      <td>38.0</td>\n",
       "      <td>1</td>\n",
       "      <td>0</td>\n",
       "      <td>PC 17599</td>\n",
       "      <td>71.2833</td>\n",
       "      <td>C85</td>\n",
       "      <td>C</td>\n",
       "    </tr>\n",
       "    <tr>\n",
       "      <th>2</th>\n",
       "      <td>3</td>\n",
       "      <td>1</td>\n",
       "      <td>3</td>\n",
       "      <td>Heikkinen, Miss. Laina</td>\n",
       "      <td>female</td>\n",
       "      <td>26.0</td>\n",
       "      <td>0</td>\n",
       "      <td>0</td>\n",
       "      <td>STON/O2. 3101282</td>\n",
       "      <td>7.9250</td>\n",
       "      <td>NaN</td>\n",
       "      <td>S</td>\n",
       "    </tr>\n",
       "    <tr>\n",
       "      <th>3</th>\n",
       "      <td>4</td>\n",
       "      <td>1</td>\n",
       "      <td>1</td>\n",
       "      <td>Futrelle, Mrs. Jacques Heath (Lily May Peel)</td>\n",
       "      <td>female</td>\n",
       "      <td>35.0</td>\n",
       "      <td>1</td>\n",
       "      <td>0</td>\n",
       "      <td>113803</td>\n",
       "      <td>53.1000</td>\n",
       "      <td>C123</td>\n",
       "      <td>S</td>\n",
       "    </tr>\n",
       "    <tr>\n",
       "      <th>4</th>\n",
       "      <td>5</td>\n",
       "      <td>0</td>\n",
       "      <td>3</td>\n",
       "      <td>Allen, Mr. William Henry</td>\n",
       "      <td>male</td>\n",
       "      <td>35.0</td>\n",
       "      <td>0</td>\n",
       "      <td>0</td>\n",
       "      <td>373450</td>\n",
       "      <td>8.0500</td>\n",
       "      <td>NaN</td>\n",
       "      <td>S</td>\n",
       "    </tr>\n",
       "  </tbody>\n",
       "</table>\n",
       "</div>"
      ],
      "text/plain": [
       "   PassengerId  Survived  Pclass  \\\n",
       "0            1         0       3   \n",
       "1            2         1       1   \n",
       "2            3         1       3   \n",
       "3            4         1       1   \n",
       "4            5         0       3   \n",
       "\n",
       "                                                Name     Sex   Age  SibSp  \\\n",
       "0                            Braund, Mr. Owen Harris    male  22.0      1   \n",
       "1  Cumings, Mrs. John Bradley (Florence Briggs Th...  female  38.0      1   \n",
       "2                             Heikkinen, Miss. Laina  female  26.0      0   \n",
       "3       Futrelle, Mrs. Jacques Heath (Lily May Peel)  female  35.0      1   \n",
       "4                           Allen, Mr. William Henry    male  35.0      0   \n",
       "\n",
       "   Parch            Ticket     Fare Cabin Embarked  \n",
       "0      0         A/5 21171   7.2500   NaN        S  \n",
       "1      0          PC 17599  71.2833   C85        C  \n",
       "2      0  STON/O2. 3101282   7.9250   NaN        S  \n",
       "3      0            113803  53.1000  C123        S  \n",
       "4      0            373450   8.0500   NaN        S  "
      ]
     },
     "execution_count": 3,
     "metadata": {},
     "output_type": "execute_result"
    }
   ],
   "source": [
    "# Leitura dos dados\n",
    "\n",
    "import pandas as pd\n",
    "\n",
    "df = pd.read_csv('titanic-data-6.csv')\n",
    "\n",
    "df.head()"
   ]
  },
  {
   "cell_type": "code",
   "execution_count": 4,
   "metadata": {},
   "outputs": [
    {
     "data": {
      "text/plain": [
       "(891, 12)"
      ]
     },
     "execution_count": 4,
     "metadata": {},
     "output_type": "execute_result"
    }
   ],
   "source": [
    "# Tamanho do dataset\n",
    "\n",
    "df.shape"
   ]
  },
  {
   "cell_type": "code",
   "execution_count": 5,
   "metadata": {},
   "outputs": [
    {
     "data": {
      "text/plain": [
       "PassengerId      int64\n",
       "Survived         int64\n",
       "Pclass           int64\n",
       "Name            object\n",
       "Sex             object\n",
       "Age            float64\n",
       "SibSp            int64\n",
       "Parch            int64\n",
       "Ticket          object\n",
       "Fare           float64\n",
       "Cabin           object\n",
       "Embarked        object\n",
       "dtype: object"
      ]
     },
     "execution_count": 5,
     "metadata": {},
     "output_type": "execute_result"
    }
   ],
   "source": [
    "# Tipos de cada coluna\n",
    "df.dtypes"
   ]
  },
  {
   "cell_type": "code",
   "execution_count": 6,
   "metadata": {},
   "outputs": [
    {
     "name": "stdout",
     "output_type": "stream",
     "text": [
      "Name: <class 'str'>\n",
      "Sex: <class 'str'>\n",
      "Ticket: <class 'str'>\n",
      "Cabin: <class 'float'>\n",
      "Embarked: <class 'str'>\n"
     ]
    }
   ],
   "source": [
    "# Investigação das colunas object\n",
    "\n",
    "for label in df.columns.values:\n",
    "    if df[label].dtype == 'object':\n",
    "        print(label + \": \" + str(type(df[label][0])))"
   ]
  },
  {
   "cell_type": "markdown",
   "metadata": {},
   "source": [
    "A coluna _Cabin_ aparenta ter o tipo `str`, mas a presença de um valor `NaN` na primeira linha fez com que essa coluna fosse representada como `float`. Vamos contar os valores nulos e `NaN` no conjunto de dados e avaliar como lidar com esses casos."
   ]
  },
  {
   "cell_type": "code",
   "execution_count": 7,
   "metadata": {},
   "outputs": [
    {
     "data": {
      "text/plain": [
       "PassengerId      0\n",
       "Survived         0\n",
       "Pclass           0\n",
       "Name             0\n",
       "Sex              0\n",
       "Age            177\n",
       "SibSp            0\n",
       "Parch            0\n",
       "Ticket           0\n",
       "Fare             0\n",
       "Cabin          687\n",
       "Embarked         2\n",
       "dtype: int64"
      ]
     },
     "execution_count": 7,
     "metadata": {},
     "output_type": "execute_result"
    }
   ],
   "source": [
    "# Contagem de valores NaN por coluna\n",
    "\n",
    "df.isna().sum()"
   ]
  },
  {
   "cell_type": "markdown",
   "metadata": {},
   "source": [
    "Aparentemente, não se sabe a cabine da maioria dos passageiros. Pesquisando um pouco mais sobre a distribuição de cabines do Titanic $^{(1,2)}$, descobri que provavelmente não é o caso de não terem uma cabine. Mesmo passageiros da 3ª classe teriam acesso a uma cabine compartilhada entre seis passageiros. A questão realmente é que não foi possível recuperar uma lista completa e precisa dos passageiros e suas cabines. Pode-se imaginar, porém, que sua localização no navio possa ter uma influência enorme na sobrevivência ou não de um passageiro, conforme podemos ver na imagem a seguir $^{(3)}$:"
   ]
  },
  {
   "cell_type": "markdown",
   "metadata": {},
   "source": [
    "![Distribuição de cabines no Titanic](http://upload.wikimedia.org/wikipedia/commons/thumb/8/84/Titanic_cutaway_diagram.png/687px-Titanic_cutaway_diagram.png)"
   ]
  },
  {
   "cell_type": "markdown",
   "metadata": {},
   "source": [
    "Pela minha pesquisa, a localização das cabines era diretamente correlacionada com a classe da passagem. Cabines de 1ª classe estavam no topo, 2ª classe no meio e 3ª classe abaixo. Vamos verificar essa afirmação mais tarde, mas facilitarei a avaliação dessa afirmativa através da inclusão de uma nova coluna **Deck**, correspondente à primeira letra da cabine (quando essa existir).\n",
    "\n",
    "Também decidir criar as colunas **Last Name** e **First Name** para facilitar a análise de familiares, bem como a coluna **MWC** para facilitar a análise da taxa de sobrevivência de homens, mulheres e crianças (pergunta 1).\n",
    "\n",
    "Finalmente, decidir substituir os valores `NaN` das colunas **Cabin**, **Embarked** e **Deck** com a string `Unknown` para deixar claro o que isso significa. Pensei se valeria a pena imputar a coluna **Age** com a mediana, mas decidi deixar isso de lado por hora."
   ]
  },
  {
   "cell_type": "code",
   "execution_count": 8,
   "metadata": {},
   "outputs": [
    {
     "data": {
      "text/html": [
       "<div>\n",
       "<style scoped>\n",
       "    .dataframe tbody tr th:only-of-type {\n",
       "        vertical-align: middle;\n",
       "    }\n",
       "\n",
       "    .dataframe tbody tr th {\n",
       "        vertical-align: top;\n",
       "    }\n",
       "\n",
       "    .dataframe thead th {\n",
       "        text-align: right;\n",
       "    }\n",
       "</style>\n",
       "<table border=\"1\" class=\"dataframe\">\n",
       "  <thead>\n",
       "    <tr style=\"text-align: right;\">\n",
       "      <th></th>\n",
       "      <th>PassengerId</th>\n",
       "      <th>Survived</th>\n",
       "      <th>Pclass</th>\n",
       "      <th>Name</th>\n",
       "      <th>Sex</th>\n",
       "      <th>Age</th>\n",
       "      <th>SibSp</th>\n",
       "      <th>Parch</th>\n",
       "      <th>Ticket</th>\n",
       "      <th>Fare</th>\n",
       "      <th>Cabin</th>\n",
       "      <th>Embarked</th>\n",
       "      <th>Deck</th>\n",
       "      <th>Last Name</th>\n",
       "      <th>First Name</th>\n",
       "      <th>MWC</th>\n",
       "    </tr>\n",
       "  </thead>\n",
       "  <tbody>\n",
       "    <tr>\n",
       "      <th>0</th>\n",
       "      <td>1</td>\n",
       "      <td>0</td>\n",
       "      <td>3</td>\n",
       "      <td>Braund, Mr. Owen Harris</td>\n",
       "      <td>male</td>\n",
       "      <td>22.0</td>\n",
       "      <td>1</td>\n",
       "      <td>0</td>\n",
       "      <td>A/5 21171</td>\n",
       "      <td>7.2500</td>\n",
       "      <td>Unknown</td>\n",
       "      <td>S</td>\n",
       "      <td>Unknown</td>\n",
       "      <td>Braund</td>\n",
       "      <td>Mr. Owen Harris</td>\n",
       "      <td>Man</td>\n",
       "    </tr>\n",
       "    <tr>\n",
       "      <th>1</th>\n",
       "      <td>2</td>\n",
       "      <td>1</td>\n",
       "      <td>1</td>\n",
       "      <td>Cumings, Mrs. John Bradley (Florence Briggs Th...</td>\n",
       "      <td>female</td>\n",
       "      <td>38.0</td>\n",
       "      <td>1</td>\n",
       "      <td>0</td>\n",
       "      <td>PC 17599</td>\n",
       "      <td>71.2833</td>\n",
       "      <td>C85</td>\n",
       "      <td>C</td>\n",
       "      <td>C</td>\n",
       "      <td>Cumings</td>\n",
       "      <td>Mrs. John Bradley (Florence Briggs Thayer)</td>\n",
       "      <td>Woman</td>\n",
       "    </tr>\n",
       "    <tr>\n",
       "      <th>2</th>\n",
       "      <td>3</td>\n",
       "      <td>1</td>\n",
       "      <td>3</td>\n",
       "      <td>Heikkinen, Miss. Laina</td>\n",
       "      <td>female</td>\n",
       "      <td>26.0</td>\n",
       "      <td>0</td>\n",
       "      <td>0</td>\n",
       "      <td>STON/O2. 3101282</td>\n",
       "      <td>7.9250</td>\n",
       "      <td>Unknown</td>\n",
       "      <td>S</td>\n",
       "      <td>Unknown</td>\n",
       "      <td>Heikkinen</td>\n",
       "      <td>Miss. Laina</td>\n",
       "      <td>Woman</td>\n",
       "    </tr>\n",
       "    <tr>\n",
       "      <th>3</th>\n",
       "      <td>4</td>\n",
       "      <td>1</td>\n",
       "      <td>1</td>\n",
       "      <td>Futrelle, Mrs. Jacques Heath (Lily May Peel)</td>\n",
       "      <td>female</td>\n",
       "      <td>35.0</td>\n",
       "      <td>1</td>\n",
       "      <td>0</td>\n",
       "      <td>113803</td>\n",
       "      <td>53.1000</td>\n",
       "      <td>C123</td>\n",
       "      <td>S</td>\n",
       "      <td>C</td>\n",
       "      <td>Futrelle</td>\n",
       "      <td>Mrs. Jacques Heath (Lily May Peel)</td>\n",
       "      <td>Woman</td>\n",
       "    </tr>\n",
       "    <tr>\n",
       "      <th>4</th>\n",
       "      <td>5</td>\n",
       "      <td>0</td>\n",
       "      <td>3</td>\n",
       "      <td>Allen, Mr. William Henry</td>\n",
       "      <td>male</td>\n",
       "      <td>35.0</td>\n",
       "      <td>0</td>\n",
       "      <td>0</td>\n",
       "      <td>373450</td>\n",
       "      <td>8.0500</td>\n",
       "      <td>Unknown</td>\n",
       "      <td>S</td>\n",
       "      <td>Unknown</td>\n",
       "      <td>Allen</td>\n",
       "      <td>Mr. William Henry</td>\n",
       "      <td>Man</td>\n",
       "    </tr>\n",
       "  </tbody>\n",
       "</table>\n",
       "</div>"
      ],
      "text/plain": [
       "   PassengerId  Survived  Pclass  \\\n",
       "0            1         0       3   \n",
       "1            2         1       1   \n",
       "2            3         1       3   \n",
       "3            4         1       1   \n",
       "4            5         0       3   \n",
       "\n",
       "                                                Name     Sex   Age  SibSp  \\\n",
       "0                            Braund, Mr. Owen Harris    male  22.0      1   \n",
       "1  Cumings, Mrs. John Bradley (Florence Briggs Th...  female  38.0      1   \n",
       "2                             Heikkinen, Miss. Laina  female  26.0      0   \n",
       "3       Futrelle, Mrs. Jacques Heath (Lily May Peel)  female  35.0      1   \n",
       "4                           Allen, Mr. William Henry    male  35.0      0   \n",
       "\n",
       "   Parch            Ticket     Fare    Cabin Embarked     Deck  Last Name  \\\n",
       "0      0         A/5 21171   7.2500  Unknown        S  Unknown     Braund   \n",
       "1      0          PC 17599  71.2833      C85        C        C    Cumings   \n",
       "2      0  STON/O2. 3101282   7.9250  Unknown        S  Unknown  Heikkinen   \n",
       "3      0            113803  53.1000     C123        S        C   Futrelle   \n",
       "4      0            373450   8.0500  Unknown        S  Unknown      Allen   \n",
       "\n",
       "                                    First Name    MWC  \n",
       "0                              Mr. Owen Harris    Man  \n",
       "1   Mrs. John Bradley (Florence Briggs Thayer)  Woman  \n",
       "2                                  Miss. Laina  Woman  \n",
       "3           Mrs. Jacques Heath (Lily May Peel)  Woman  \n",
       "4                            Mr. William Henry    Man  "
      ]
     },
     "execution_count": 8,
     "metadata": {},
     "output_type": "execute_result"
    }
   ],
   "source": [
    "import numpy as np\n",
    "\n",
    "df['Deck'] = df.Cabin.str[0]\n",
    "#df['Imputted_Age'] = df.Age.isnull()\n",
    "\n",
    "values = {'Cabin': 'Unknown', 'Embarked': 'Unknown', 'Deck': 'Unknown'}\n",
    "#'Age': df.Age.median()}\n",
    "df = df.fillna(value=values)\n",
    "\n",
    "df['Last Name'] = [names[0] for names in df['Name'].str.split(',').values]\n",
    "df['First Name'] = [names[1] for names in df['Name'].str.split(',').values]\n",
    "\n",
    "mwc_condlist = [df['Age'] < 18, df['Sex'] == 'male', df['Sex'] == 'female']\n",
    "mwc_choicelist = ['Child', 'Man', 'Woman']\n",
    "\n",
    "df['MWC'] = np.select(mwc_condlist, mwc_choicelist)\n",
    "\n",
    "df.head()"
   ]
  },
  {
   "cell_type": "code",
   "execution_count": 41,
   "metadata": {},
   "outputs": [
    {
     "data": {
      "text/plain": [
       "count    714.000000\n",
       "mean      29.699118\n",
       "std       14.526497\n",
       "min        0.420000\n",
       "25%       20.125000\n",
       "50%       28.000000\n",
       "75%       38.000000\n",
       "max       80.000000\n",
       "Name: Age, dtype: float64"
      ]
     },
     "execution_count": 41,
     "metadata": {},
     "output_type": "execute_result"
    }
   ],
   "source": [
    "#df['Deck'].value_counts().sort_index()\n",
    "#df['Last Name'].value_counts()\n",
    "#df.hist(figsize=(8,8))\n",
    "#df.info()\n",
    "#df.nunique()\n",
    "#df.describe()"
   ]
  },
  {
   "cell_type": "markdown",
   "metadata": {},
   "source": [
    "### Pergunta 1: Mulheres e crianças tiveram uma taxa maior de sobrevivência?\n",
    "\n",
    "**Resposta:** Sim. Sua taxa de sobrevivência foi de 3 a 5 vezes maior que a taxa de sobrevivência de homens. Além disso, homens são minoria entre os sobreviventes e maioria entre os falecidos."
   ]
  },
  {
   "cell_type": "code",
   "execution_count": 10,
   "metadata": {},
   "outputs": [
    {
     "data": {
      "image/png": "[encoded data removed]",
      "text/plain": [
       "<Figure size 432x288 with 1 Axes>"
      ]
     },
     "metadata": {},
     "output_type": "display_data"
    }
   ],
   "source": [
    "df_q1_mwc = df.groupby('MWC')['Survived'].value_counts().sort_index();\n",
    "\n",
    "#print(df_q1_mwc,'\\n')\n",
    "\n",
    "df_q1_m0 = df_q1_mwc['Man'][0]\n",
    "df_q1_m1 = df_q1_mwc['Man'][1]\n",
    "df_q1_w0 = df_q1_mwc['Woman'][0]\n",
    "df_q1_w1 = df_q1_mwc['Woman'][1]\n",
    "df_q1_c0 = df_q1_mwc['Child'][0]\n",
    "df_q1_c1 = df_q1_mwc['Child'][1]\n",
    "\n",
    "m_sr = df_q1_m1/(df_q1_m0 + df_q1_m1)\n",
    "w_sr = df_q1_w1/(df_q1_w0 + df_q1_w1)\n",
    "c_sr = df_q1_c1/(df_q1_c0 + df_q1_c1)\n",
    "\n",
    "#print('Men survival rate: ' + str(round(100*m_sr,2)) + '%')\n",
    "#print('Women survival rate: ' + str(round(100*w_sr,2)) + '%')\n",
    "#print('Children survival rate: ' + str(round(100*c_sr,2)) + '%')\n",
    "\n",
    "s_mr = df_q1_m1/(df_q1_m1 + df_q1_w1 + df_q1_c1)\n",
    "s_wr = df_q1_w1/(df_q1_m1 + df_q1_w1 + df_q1_c1)\n",
    "s_cr = df_q1_c1/(df_q1_m1 + df_q1_w1 + df_q1_c1)\n",
    "\n",
    "d_mr = df_q1_m0/(df_q1_m0 + df_q1_w0 + df_q1_c0)\n",
    "d_wr = df_q1_w0/(df_q1_m0 + df_q1_w0 + df_q1_c0)\n",
    "d_cr = df_q1_c0/(df_q1_m0 + df_q1_w0 + df_q1_c0)\n",
    "\n",
    "# Gráficos de barras com taxas de sobrevivência para homens, mulheres e crianças\n",
    "labels = 'Men', 'Women', 'Children'\n",
    "x = np.arange(3)\n",
    "survival = [m_sr, w_sr, c_sr]\n",
    "\n",
    "def percentage(x, pos):\n",
    "    'The two args are the value and tick position'\n",
    "    return '%1.2f%%' % (x * 100)\n",
    "\n",
    "from matplotlib.ticker import FuncFormatter\n",
    "formatter = FuncFormatter(percentage)\n",
    "\n",
    "fig, ax = plt.subplots();\n",
    "\n",
    "fig.suptitle('Men/Women/Children survival rates', fontsize=16)\n",
    "\n",
    "ax.yaxis.set_major_formatter(formatter);\n",
    "barlist = plt.bar(x, survival);\n",
    "\n",
    "barlist[0].set_color(m_color)\n",
    "barlist[1].set_color(w_color)\n",
    "barlist[2].set_color(c_color)\n",
    "\n",
    "plt.xticks(x, labels);\n",
    "plt.show();"
   ]
  },
  {
   "cell_type": "code",
   "execution_count": 11,
   "metadata": {},
   "outputs": [
    {
     "data": {
      "image/png": "[encoded data removed]",
      "text/plain": [
       "<Figure size 576x576 with 2 Axes>"
      ]
     },
     "metadata": {},
     "output_type": "display_data"
    }
   ],
   "source": [
    "# Gráficos de pizza para proporção de homens, mulheres e crianças entre os sobreviventes/falecidos \n",
    "labels = 'Men', 'Women', 'Children'\n",
    "survived = [s_mr, s_wr, s_cr]\n",
    "deceased = [d_mr, d_wr, d_cr]\n",
    "\n",
    "fig, ax = plt.subplots(1,2,figsize=(8, 8));\n",
    "\n",
    "fig.suptitle('Men/Women/Children ratios among survivors/deceased', fontsize=16)\n",
    "\n",
    "ax[0].set_title('Survivors')\n",
    "ax[0].pie(survived, labels=labels, autopct='%1.1f%%', shadow=True, startangle=90)\n",
    "\n",
    "ax[0].axis('equal');\n",
    "\n",
    "ax[1].set_title('Deceased')\n",
    "ax[1].pie(deceased, labels=labels, autopct='%1.1f%%', shadow=True, startangle=90);\n",
    "ax[1].axis('equal');\n",
    "\n",
    "plt.show();"
   ]
  },
  {
   "cell_type": "markdown",
   "metadata": {},
   "source": [
    "### Pergunta 2: A classe da passagem do passageiro teve influência na sua sobrevivência?\n",
    "\n",
    "**Resposta:** Sim. Passageiros de classe mais alta tiveram uma taxa de sobrevivência maior."
   ]
  },
  {
   "cell_type": "code",
   "execution_count": 12,
   "metadata": {},
   "outputs": [
    {
     "data": {
      "image/png": "[encoded data removed]",
      "text/plain": [
       "<Figure size 432x288 with 1 Axes>"
      ]
     },
     "metadata": {},
     "output_type": "display_data"
    }
   ],
   "source": [
    "df_q2_pclass = df.groupby('Pclass')['Survived'].value_counts().sort_index();\n",
    "\n",
    "#print(df_q2_pclass,'\\n')\n",
    "\n",
    "df_q2_f0 = df_q2_pclass[1][0]\n",
    "df_q2_f1 = df_q2_pclass[1][1]\n",
    "df_q2_s0 = df_q2_pclass[2][0]\n",
    "df_q2_s1 = df_q2_pclass[2][1]\n",
    "df_q2_t0 = df_q2_pclass[3][0]\n",
    "df_q2_t1 = df_q2_pclass[3][1]\n",
    "\n",
    "\n",
    "f_sr = df_q2_f1/(df_q2_f0 + df_q2_f1)\n",
    "s_sr = df_q2_s1/(df_q2_s0 + df_q2_s1)\n",
    "t_sr = df_q2_t1/(df_q2_t0 + df_q2_t1)\n",
    "\n",
    "#print('First class survival rate: ' + str(round(100*f_sr,2)) + '%')\n",
    "#print('Second class survival rate: ' + str(round(100*s_sr,2)) + '%')\n",
    "#print('Third class survival rate: ' + str(round(100*t_sr,2)) + '%')\n",
    "\n",
    "s_mr = df_q1_m1/(df_q1_m1 + df_q1_w1 + df_q1_c1)\n",
    "s_wr = df_q1_w1/(df_q1_m1 + df_q1_w1 + df_q1_c1)\n",
    "s_cr = df_q1_c1/(df_q1_m1 + df_q1_w1 + df_q1_c1)\n",
    "\n",
    "d_mr = df_q1_m0/(df_q1_m0 + df_q1_w0 + df_q1_c0)\n",
    "d_wr = df_q1_w0/(df_q1_m0 + df_q1_w0 + df_q1_c0)\n",
    "d_cr = df_q1_c0/(df_q1_m0 + df_q1_w0 + df_q1_c0)\n",
    "\n",
    "# Gráficos de barras com taxas de sobrevivência para primeira, segunda e terceira classes\n",
    "labels = 'First class', 'Second class', 'Third class'\n",
    "x = np.arange(3)\n",
    "survival = [f_sr, s_sr, t_sr]\n",
    "\n",
    "def percentage(x, pos):\n",
    "    'The two args are the value and tick position'\n",
    "    return '%1.2f%%' % (x * 100)\n",
    "\n",
    "from matplotlib.ticker import FuncFormatter\n",
    "formatter = FuncFormatter(percentage)\n",
    "\n",
    "fig, ax = plt.subplots();\n",
    "\n",
    "fig.suptitle('Survival rates by passenger class', fontsize=16)\n",
    "\n",
    "ax.yaxis.set_major_formatter(formatter);\n",
    "barlist = plt.bar(x, survival);\n",
    "\n",
    "barlist[0].set_color('r')\n",
    "barlist[1].set_color('g')\n",
    "barlist[2].set_color('b')\n",
    "\n",
    "plt.xticks(x, labels);\n",
    "plt.show();"
   ]
  },
  {
   "cell_type": "markdown",
   "metadata": {},
   "source": [
    "### Pergunta 3: Qual foi a distribuição de idades dos sobreviventes e não-sobreviventes?\n",
    "\n",
    "**Resposta:** A distribuição de idade entre os 290 sobreviventes não foi significativamente diferente da distribuição de idade entre os 424 não-sobreviventes, exceto por uma contagem maior de crianças entre 0 e 10 anos."
   ]
  },
  {
   "cell_type": "code",
   "execution_count": 133,
   "metadata": {},
   "outputs": [
    {
     "name": "stdout",
     "output_type": "stream",
     "text": [
      "Survivors df.describe()\n",
      "count    290.000000\n",
      "mean      28.324138\n",
      "std       14.983905\n",
      "min        0.000000\n",
      "25%       19.000000\n",
      "50%       28.000000\n",
      "75%       36.000000\n",
      "max       80.000000\n",
      "Name: Age, dtype: float64\n",
      "\n",
      "\n",
      "Deceased df.describe()\n",
      "count    424.000000\n",
      "mean      30.606132\n",
      "std       14.165621\n",
      "min        1.000000\n",
      "25%       21.000000\n",
      "50%       28.000000\n",
      "75%       39.000000\n",
      "max       74.000000\n",
      "Name: Age, dtype: float64\n",
      "\n",
      "\n"
     ]
    },
    {
     "data": {
      "image/png": "[encoded data removed]",
      "text/plain": [
       "<Figure size 720x576 with 2 Axes>"
      ]
     },
     "metadata": {},
     "output_type": "display_data"
    }
   ],
   "source": [
    "# Truncamento de idade devido à presença\n",
    "df_q3_rounded_age = df[['Age', 'Survived']].copy()\n",
    "df_q3_rounded_age.Age = np.floor(df_q3_rounded_age.Age)\n",
    "\n",
    "df_q3_survived_age = df_q3_rounded_age[df_q3_rounded_age['Survived']==1]\n",
    "df_q3_deceased_age = df_q3_rounded_age[df_q3_rounded_age['Survived']==0]\n",
    "\n",
    "# Descrição distribuição de idades com df.describe()\n",
    "print('Survivors df.describe()')\n",
    "print(df_q3_survived_age.Age.describe());\n",
    "print('\\n')\n",
    "\n",
    "print('Deceased df.describe()')\n",
    "print(df_q3_deceased_age.Age.describe());\n",
    "print('\\n')\n",
    "\n",
    "df_q3_groupby_age = df_rounded_age.groupby(['Age', 'Survived'])['Survived']\n",
    "df_q3_groupby_age_counts = df_q3_groupby_age.count().unstack(1).fillna(0);\n",
    "\n",
    "# Histogramas com a distribuição de idade dos sobreviventes/falecidos \n",
    "ages = df_q3_groupby_age_counts.index.values\n",
    "\n",
    "#print(ages)\n",
    "\n",
    "survived = df_q3_groupby_age_counts[1]\n",
    "deceased = df_q3_groupby_age_counts[0]\n",
    "\n",
    "fig, ax = plt.subplots(2,1,figsize=(10, 8));\n",
    "\n",
    "fig.suptitle('Age distribution among survivors/deceased', fontsize=16);\n",
    "\n",
    "ax[0].set_title('Survivors');\n",
    "ax[0].set_xlabel('Age')\n",
    "ax[0].set_ylabel('Count')\n",
    "ax[0].bar(x=ages,height=survived,align='edge');\n",
    "\n",
    "ax[1].set_title('Deceased');\n",
    "ax[1].set_xlabel('Age')\n",
    "ax[1].set_ylabel('Count')\n",
    "ax[1].bar(x=ages,height=deceased,align='edge');\n",
    "\n",
    "plt.subplots_adjust(hspace=0.4)\n",
    "plt.show();\n",
    "\n"
   ]
  },
  {
   "cell_type": "markdown",
   "metadata": {},
   "source": [
    "\n",
    "\n",
    "### Pergunta 4: Qual era o tamanho médio das famílias a bordo?\n",
    "\n",
    "**Resposta:**\n",
    "\n",
    "### Pergunta 5: Qual porto foi responsável pelo maior número de passageiros?\n",
    "\n",
    "**Resposta:**\n",
    "\n",
    "### Pergunta 6: Qual porto foi responsável pela maior receita?\n",
    "\n",
    "**Resposta:**\n"
   ]
  },
  {
   "cell_type": "markdown",
   "metadata": {},
   "source": [
    "## Conclusões\n",
    "\n",
    "Um resumo das estatísticas e gráficos comunicando seu resultado final"
   ]
  },
  {
   "cell_type": "markdown",
   "metadata": {},
   "source": [
    "## Referências\n",
    "\n",
    "Uma lista de sites, livros, fóruns, postagens de blogs, repositórios do GitHub, etc. que você usou ou em que se baseou para criar o projeto (coloque N/A caso não tenha usado nenhum desses recursos).\n",
    "\n",
    "1. https://www.dummies.com/education/history/suites-and-cabins-for-passengers-on-the-titanic/\n",
    "2. https://www.encyclopedia-titanica.org/cabins.html\n",
    "3. https://www.kaggle.com/c/titanic/discussion/4693\n",
    "4. https://medium.com/@naomi.fridman/pandas-groupby-explained-with-titanic-6a1c47eb8182\n",
    "5. https://medium.com/dunder-data/selecting-subsets-of-data-in-pandas-6fcd0170be9c\n",
    "6. https://cmdlinetips.com/2018/02/how-to-subset-pandas-dataframe-based-on-values-of-a-column/"
   ]
  }
 ],
 "metadata": {
  "kernelspec": {
   "display_name": "Python 3",
   "language": "python",
   "name": "python3"
  },
  "language_info": {
   "codemirror_mode": {
    "name": "ipython",
    "version": 3
   },
   "file_extension": ".py",
   "mimetype": "text/x-python",
   "name": "python",
   "nbconvert_exporter": "python",
   "pygments_lexer": "ipython3",
   "version": "3.6.5"
  }
 },
 "nbformat": 4,
 "nbformat_minor": 2
}
